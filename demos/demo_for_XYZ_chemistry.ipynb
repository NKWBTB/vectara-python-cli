{
 "cells": [
  {
   "cell_type": "markdown",
   "metadata": {},
   "source": [
    "# Vectara demo for XYZ Chemical\n",
    "\n",
    "Build a quick knowledge chatbot/search engine for XYZ Chemicals using Vectara."
   ]
  },
  {
   "cell_type": "code",
   "execution_count": 2,
   "metadata": {},
   "outputs": [],
   "source": [
    "# !pip install vectara"
   ]
  },
  {
   "cell_type": "code",
   "execution_count": 1,
   "metadata": {},
   "outputs": [
    {
     "name": "stdout",
     "output_type": "stream",
     "text": [
      "Vectara SDK initialized. \n"
     ]
    }
   ],
   "source": [
    "import vectara\n",
    "\n",
    "import importlib\n",
    "importlib.reload(vectara)\n",
    "\n",
    "# Initialize the client\n",
    "client = vectara.vectara(customer_id=\"123\", api_key=\"456\")"
   ]
  },
  {
   "cell_type": "markdown",
   "metadata": {},
   "source": [
    "# 1. Create a corpus\n",
    "A corpus is a collection of documents. "
   ]
  },
  {
   "cell_type": "code",
   "execution_count": 81,
   "metadata": {},
   "outputs": [
    {
     "name": "stdout",
     "output_type": "stream",
     "text": [
      "New corpus created, corpus ID is: 26\n",
      "Please write down this corpus ID. You will need it to upload files to it and to query against it.\n"
     ]
    },
    {
     "data": {
      "text/plain": [
       "26"
      ]
     },
     "execution_count": 81,
     "metadata": {},
     "output_type": "execute_result"
    }
   ],
   "source": [
    "corpus_id = client.create_corpus(\"Chemistry and Politics\")"
   ]
  },
  {
   "cell_type": "code",
   "execution_count": 2,
   "metadata": {},
   "outputs": [],
   "source": [
    "corpus_id = 26\n",
    "# client.reset_corpus(corpus_id) # delete all documents in the corpus"
   ]
  },
  {
   "cell_type": "markdown",
   "metadata": {},
   "source": [
    "# 2. Add documents to the corpus\n",
    "\n",
    "## 2.1 Add documents from a local file, a local folder or a list of file paths. "
   ]
  },
  {
   "cell_type": "code",
   "execution_count": 87,
   "metadata": {},
   "outputs": [
    {
     "name": "stdout",
     "output_type": "stream",
     "text": [
      "True\n",
      "I am here\n",
      "Uploading..../test_data/Methane.pdf Success. \n"
     ]
    },
    {
     "data": {
      "text/plain": [
       "{'response': {'status': {},\n",
       "  'quotaConsumed': {'numChars': '77400', 'numMetadataChars': '64653'}}}"
      ]
     },
     "execution_count": 87,
     "metadata": {},
     "output_type": "execute_result"
    }
   ],
   "source": [
    "client.upload(corpus_id, './test_data/Methane.pdf', verbose=True) # upload one file\n",
    "# client.upload(corpus_id, './test_data') # upload all files under a folder/directory"
   ]
  },
  {
   "cell_type": "markdown",
   "metadata": {},
   "source": [
    "## 2.2 Create a document by manually uploading parts of it \n",
    "\n",
    "A part can be a sentence. A document is thus a sequence of parts. A part is called a \"chunk\". "
   ]
  },
  {
   "cell_type": "code",
   "execution_count": 83,
   "metadata": {},
   "outputs": [
    {
     "name": "stdout",
     "output_type": "stream",
     "text": [
      "Uploading the chunks...\n",
      "{'status': {'code': 'OK', 'statusDetail': '', 'cause': None}, 'quotaConsumed': {'numChars': '538', 'numMetadataChars': '73'}}\n"
     ]
    },
    {
     "data": {
      "text/plain": [
       "{'status': {'code': 'OK', 'statusDetail': '', 'cause': None},\n",
       " 'quotaConsumed': {'numChars': '538', 'numMetadataChars': '73'}}"
      ]
     },
     "execution_count": 83,
     "metadata": {},
     "output_type": "execute_result"
    }
   ],
   "source": [
    "text_list = [\n",
    "    'We the People of the United States, in Order to form a more perfect Union, establish Justice, insure domestic Tranquility, provide for the common defence, promote the general Welfare, and secure the Blessings of Liberty to ourselves and our Posterity, do ordain and establish this Constitution for the United States of America.',\n",
    "    'Congress shall make no law respecting an establishment of religion, or prohibiting the free exercise thereof; or abridging the freedom of speech, or of the press; or the right of the people peaceably to assemble',\n",
    "    ] \n",
    "\n",
    "client.create_document_from_chunks(\n",
    "    corpus_id, \n",
    "    chunks=text_list, \n",
    "    chunk_metadata=[\n",
    "        {'note': 'preamble'},\n",
    "        {'note': '1st amendment'}], \n",
    "    doc_id=\"Constitution of the United States\", \n",
    "    doc_metadata={\"country\": \"United States\"}, \n",
    "    verbose=True)"
   ]
  },
  {
   "cell_type": "markdown",
   "metadata": {},
   "source": [
    "You can mix documents of different languages in the same corpus."
   ]
  },
  {
   "cell_type": "code",
   "execution_count": 84,
   "metadata": {},
   "outputs": [
    {
     "name": "stdout",
     "output_type": "stream",
     "text": [
      "Uploading the chunks...\n",
      "{'status': {'code': 'OK', 'statusDetail': '', 'cause': None}, 'quotaConsumed': {'numChars': '319', 'numMetadataChars': '109'}}\n"
     ]
    },
    {
     "data": {
      "text/plain": [
       "{'status': {'code': 'OK', 'statusDetail': '', 'cause': None},\n",
       " 'quotaConsumed': {'numChars': '319', 'numMetadataChars': '109'}}"
      ]
     },
     "execution_count": 84,
     "metadata": {},
     "output_type": "execute_result"
    }
   ],
   "source": [
    "text_list = [ # Text in Korean, the Constitution of South Korea\n",
    "    '悠久한 歷史와 傳統에 빛나는 우리 大韓國民은 3·1運動으로 建立된 大韓民國臨時政府의 法統과 不義에 抗拒한 4·19民主理念을 繼承하고, 祖國의 民主改革과 平和的統一의 使命에 立脚하여 正義·人道와 同胞愛로써 民族의 團結을 鞏固히 하고, 모든 社會的弊習과 不義를 打破하며, 自律과 調和를 바탕으로 自由民主的基本秩序를 더욱 確固히', \n",
    "    '大韓民國의 領土는 韓半島와 그 附屬島嶼로 한다.', \n",
    "    '모든 國民은 身體의 自由를 가진다. 누구든지 法律에 의하지 아니하고는 逮捕·拘束·押收·搜索 또는 審問을 받지 아니하며, 法律과 適法한 節次에 의하지 아니하고는 處罰·保安處分 또는 强制勞役을 받지 아니한다'\n",
    "]\n",
    "\n",
    "client.create_document_from_chunks(\n",
    "    corpus_id, \n",
    "    chunks=text_list, \n",
    "    chunk_metadata=[\n",
    "        {'note': 'preamble'}, \n",
    "        {'note': 'Chapter 1, Section 1, Article 1'},\n",
    "        {'note': 'Chapter 2, Section 12, Article 1'}],\n",
    "    doc_id=\"Constitution of South Korea\", \n",
    "    verbose=True)"
   ]
  },
  {
   "cell_type": "markdown",
   "metadata": {},
   "source": [
    "# 3. Now you can search or chat with the documents"
   ]
  },
  {
   "cell_type": "code",
   "execution_count": 9,
   "metadata": {},
   "outputs": [
    {
     "name": "stdout",
     "output_type": "stream",
     "text": [
      "Query successful. \n"
     ]
    },
    {
     "data": {
      "text/markdown": [
       "### Here is the answer\n",
       "The rights of the people encompass various fundamental freedoms and protections. These include the\n",
       "right to personal liberty without arbitrary arrests or punishment without lawful procedures [2].\n",
       "Additionally, people have the right to freedom of religion, speech, press, and assembly as outlined\n",
       "in the constitution [3]. The Constitution also establishes the principles of justice, domestic\n",
       "tranquility, common defense, general welfare, and securing liberty for all citizens [4]. These\n",
       "rights are inherited from historical movements and are upheld to promote national unity and\n",
       "democratic values [5].\n",
       "\n",
       "Factual Consistency Score: `0.54751414`\n",
       "\n",
       "### References:\n",
       "    \n",
       "1. From document **Constitution of South Korea** (matchness=0.74057484):\n",
       "  _...모든 國民은 身體의 自由를 가진다. 누구든지 法律에 의하지 아니하고는 逮捕·拘束·押收·搜索 또는 審問을 받지 아니하며, 法律과 適法한 節次에 의하지 아니하고는 處罰·保安處分 또는 强制勞役을 받지 아니한다..._\n",
       "\n",
       "2. From document **Constitution of the United States** (matchness=0.72459704):\n",
       "  _...Congress shall make no law respecting an establishment of religion, or prohibiting the free exercise thereof; or abridging the freedom of speech, or of the press; or the right of the people peaceably to assemble..._\n",
       "\n",
       "3. From document **Constitution of the United States** (matchness=0.7137908):\n",
       "  _...We the People of the United States, in Order to form a more perfect Union, establish Justice, insure domestic Tranquility, provide for the common defence, promote the general Welfare, and secure the Blessings of Liberty to ourselves and our Posterity, do ordain and establish this Constitution for the United States of America...._\n",
       "\n",
       "4. From document **Constitution of South Korea** (matchness=0.67185295):\n",
       "  _...悠久한 歷史와 傳統에 빛나는 우리 大韓國民은 3·1運動으로 建立된 大韓民國臨時政府의 法統과 不義에 抗拒한 4·19民主理念을 繼承하고, 祖國의 民主改革과 平和的統一의 使命에 立脚하여 正義·人道와 同胞愛로써 民族의 團結을 鞏固히 하고, 모든 社會的弊習과 不義를 打破하며, 自律과 調和를 바탕으로 自由民主的基本秩序를 더욱 確固히..._\n",
       "\n",
       "5. From document **Methane.pdf** (matchness=0.6627644):\n",
       "  _...People.hofstra.edu. Retrieved on March 30, 2014...._\n"
      ]
     },
     "metadata": {},
     "output_type": "display_data"
    }
   ],
   "source": [
    "r= client.query(corpus_id, \"What are the rights of the people?\", print_format= 'markdown', \n",
    "                # metadata_filter=\"doc.coury='Uted States'\",\n",
    "                jupyter_display = True, \n",
    "                verbose=False) # query the corpus"
   ]
  },
  {
   "cell_type": "code",
   "execution_count": 107,
   "metadata": {},
   "outputs": [
    {
     "name": "stdout",
     "output_type": "stream",
     "text": [
      "Query successful. \n"
     ]
    },
    {
     "data": {
      "text/markdown": [
       "### Here is the answer\n",
       "甲烷是一种化学物质，其化学式为CH4，由一个碳原子与四个氢原子结合而成[zho2]。甲烷是一种无色、无味、透明的气体[zho3]。该词源自化学后缀“-\n",
       "ane”，表示属于烷烃家族的物质；以及甲基一词，源自法语“méthylène”，后者又来源于法语“méthyle”[zho1]。甲烷与甲基有关，甲基是与甲烷相关的一个官能团[zho4]。\n",
       "\n",
       "Factual Consistency Score: `0`\n",
       "\n",
       "### References:\n",
       "    \n",
       "1. From document **Methane.pdf** (matchness=0.80459774):\n",
       "  _...Etymologically, the word methane is coined from the chemical\n",
       "suffix \"-ane\", which denotes substances belonging to the alkane\n",
       "family; and the word methyl, which is derived from the German\n",
       "Methyl (1840) or directly from the French méthyle, which is a back-\n",
       "formation from the French méthylène (corresponding to English\n",
       "\"methylene\"),  the  root of which  was  coined  by  Jean-Baptiste..._\n",
       "\n",
       "2. From document **Methane.pdf** (matchness=0.7917943):\n",
       "  _...Methane (US: /ˈmɛθeɪn/ METH-ayn, UK: /ˈmiːθeɪn/ MEE-thayn) is\n",
       "Methane\n",
       "a  chemical  compound  with  the  chemical  formula  CH4  (one\n",
       "carbon atom bonded to four hydrogen atoms)...._\n",
       "\n",
       "3. From document **Methane.pdf** (matchness=0.78040886):\n",
       "  _...Methane  is  an  odorless,\n",
       "colourless and transparent\n",
       "gas...._\n",
       "\n",
       "4. From document **Methane.pdf** (matchness=0.7750094):\n",
       "  _...Methyl group, a functional group related to methane...._\n",
       "\n",
       "5. From document **Methane.pdf** (matchness=0.7702186):\n",
       "  _...In  general,  methane..._\n"
      ]
     },
     "metadata": {},
     "output_type": "display_data"
    }
   ],
   "source": [
    "r= client.query(corpus_id, \"何謂甲烷\", print_format= 'markdown', \n",
    "                # metadata_filter=\"doc.coury='Uted States'\",\n",
    "                jupyter_display = True, \n",
    "                verbose=False) # query the corpus"
   ]
  },
  {
   "cell_type": "markdown",
   "metadata": {},
   "source": [
    "# What makes Vectara different from other solutions? \n",
    "\n",
    "TL;DR: Speed, accuracy, security, scalability. \n",
    "\n",
    "1. Search filters, e.g. you can filter by language, by document, by chunk, by any metadata you want to add. For example, asking the US Constitution for what methane is results no answer. "
   ]
  },
  {
   "cell_type": "code",
   "execution_count": 11,
   "metadata": {},
   "outputs": [
    {
     "name": "stdout",
     "output_type": "stream",
     "text": [
      "Query successful. \n"
     ]
    },
    {
     "data": {
      "text/markdown": [
       "### Here is the answer\n",
       "The returned results did not contain sufficient information to be summarized into a useful answer\n",
       "for your query. Please try a different search or restate your query differently.\n",
       "\n",
       "Factual Consistency Score: `0`\n",
       "\n",
       "### References:\n",
       "    \n",
       "1. From document **Constitution of the United States** (matchness=0.5970528):\n",
       "  _...We the People of the United States, in Order to form a more perfect Union, establish Justice, insure domestic Tranquility, provide for the common defence, promote the general Welfare, and secure the Blessings of Liberty to ourselves and our Posterity, do ordain and establish this Constitution for the United States of America...._\n",
       "\n",
       "2. From document **Constitution of the United States** (matchness=0.58943474):\n",
       "  _...Congress shall make no law respecting an establishment of religion, or prohibiting the free exercise thereof; or abridging the freedom of speech, or of the press; or the right of the people peaceably to assemble..._\n"
      ]
     },
     "metadata": {},
     "output_type": "display_data"
    }
   ],
   "source": [
    "r= client.query(corpus_id, \"何謂甲烷\", print_format= 'markdown', \n",
    "                metadata_filter=\"doc.id='Constitution of the United States'\",\n",
    "                jupyter_display = True, \n",
    "                verbose=False) # query the corpus"
   ]
  },
  {
   "cell_type": "markdown",
   "metadata": {},
   "source": [
    "2. Language-agnostic. Documents can be in different languages. Query and documents can be in different languages. \n",
    "3. Access control, e.g. a user can only get answer from documents authorized to him/her. \n",
    "4. Extremely fast, i.e., low-latency. As fast as Google search. \n",
    "5. State-of-the-art models for best accuracy, e.g., Boomerang, Slingshot, and HHEM.\n",
    "6. Security, e.g., SOC2, HIPAA, etc.\n",
    "\n",
    "**We do not train our model using your data.**"
   ]
  },
  {
   "cell_type": "code",
   "execution_count": 12,
   "metadata": {},
   "outputs": [
    {
     "data": {
      "text/plain": [
       "{'document': [{'id': 'Constitution of South Korea', 'metadata': []},\n",
       "  {'id': 'Constitution of the United States',\n",
       "   'metadata': [{'name': 'country', 'value': 'United States'}]},\n",
       "  {'id': 'Methane.pdf',\n",
       "   'metadata': [{'name': 'CreationDate', 'value': '1714593506'},\n",
       "    {'name': 'Producer', 'value': 'Skia/PDF m121'},\n",
       "    {'name': 'Creator', 'value': 'Chromium'},\n",
       "    {'name': 'ModDate', 'value': '1714593506'},\n",
       "    {'name': 'title', 'value': 'Methane'}]}],\n",
       " 'nextPageKey': ''}"
      ]
     },
     "execution_count": 12,
     "metadata": {},
     "output_type": "execute_result"
    }
   ],
   "source": [
    "client.list_documents(26)"
   ]
  },
  {
   "cell_type": "code",
   "execution_count": null,
   "metadata": {},
   "outputs": [],
   "source": []
  }
 ],
 "metadata": {
  "kernelspec": {
   "display_name": "Python 3",
   "language": "python",
   "name": "python3"
  },
  "language_info": {
   "codemirror_mode": {
    "name": "ipython",
    "version": 3
   },
   "file_extension": ".py",
   "mimetype": "text/x-python",
   "name": "python",
   "nbconvert_exporter": "python",
   "pygments_lexer": "ipython3",
   "version": "3.10.12"
  }
 },
 "nbformat": 4,
 "nbformat_minor": 2
}
