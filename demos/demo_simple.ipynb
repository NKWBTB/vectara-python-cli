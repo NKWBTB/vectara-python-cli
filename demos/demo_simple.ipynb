{
 "cells": [
  {
   "cell_type": "markdown",
   "metadata": {},
   "source": [
    "# Demo of the unofficial Python SDK for [Vectara](https://vectara.com)'s RAG platform\n",
    "\n",
    "For questions, ask forrest@vectara.com "
   ]
  },
  {
   "cell_type": "code",
   "execution_count": 1,
   "metadata": {},
   "outputs": [
    {
     "data": {
      "text/plain": [
       "<module 'vectara' from '/home/forrest/repos/vectara-python-cli/src/vectara/__init__.py'>"
      ]
     },
     "execution_count": 1,
     "metadata": {},
     "output_type": "execute_result"
    }
   ],
   "source": [
    "import vektara\n",
    "\n",
    "# For debugging \n",
    "import importlib\n",
    "importlib.reload(vektara)"
   ]
  },
  {
   "cell_type": "markdown",
   "metadata": {},
   "source": [
    "# Create a client object \n",
    "\n",
    "By default, the constructor will look for the authentication credentials in the environment variables. For details, see [README.md](./README.md#credentials)"
   ]
  },
  {
   "cell_type": "code",
   "execution_count": 9,
   "metadata": {},
   "outputs": [
    {
     "name": "stdout",
     "output_type": "stream",
     "text": [
      "Vectara SDK initialized. \n"
     ]
    }
   ],
   "source": [
    "# client = vektara.Vectara() # get default credentials from environment variables \n",
    "# OR\n",
    "client = vektara.Vectara(api_key='abc', customer_id='123') # pass in credentials for using Personal API key \n",
    "# OR\n",
    "# client = vektara.Vectara(client_id='abc', client_secret='xyz', customer_id='123') # pass in credentials for using OAuth2"
   ]
  },
  {
   "cell_type": "markdown",
   "metadata": {},
   "source": [
    "# Create a corpus"
   ]
  },
  {
   "cell_type": "code",
   "execution_count": 4,
   "metadata": {},
   "outputs": [],
   "source": [
    "corpus_id = client.create_corpus(\"test_corpus\")"
   ]
  },
  {
   "cell_type": "markdown",
   "metadata": {},
   "source": [
    "# Reset Corpus (when needed)"
   ]
  },
  {
   "cell_type": "code",
   "execution_count": 10,
   "metadata": {},
   "outputs": [
    {
     "name": "stdout",
     "output_type": "stream",
     "text": [
      "Resetting corpus 11 successful. \n"
     ]
    }
   ],
   "source": [
    "corpus_id = 11 # manual set here \n",
    "client.reset_corpus(corpus_id)"
   ]
  },
  {
   "cell_type": "markdown",
   "metadata": {},
   "source": [
    "# Add files to a corpus\n",
    "\n",
    "You can use the `upload()` method to upload a file, a list of files, or a folder to a corpus. The `upload()` method automatically detects the type of file source to switch between the three methods below.\n",
    "* `upload_file()`: upload a single file\n",
    "* `upload_files()`: upload a list of files\n",
    "* `upload_folder()`: upload all files in a folder\n",
    "\n",
    "Of course, if you are very sure about what you are doing, you can also use the three methods above directly."
   ]
  },
  {
   "cell_type": "code",
   "execution_count": 16,
   "metadata": {},
   "outputs": [
    {
     "name": "stdout",
     "output_type": "stream",
     "text": [
      "Uploading files from folder: ./test_data\n",
      "doc_ids is empty. Using filenames as doc_ids.\n",
      "metadata is a dict. Duplicating it for all files.\n"
     ]
    },
    {
     "name": "stderr",
     "output_type": "stream",
     "text": [
      "Uploading...:  33%|███▎      | 1/3 [00:02<00:04,  2.24s/it, ./test_data/gettysburg_address.txt]         "
     ]
    },
    {
     "name": "stdout",
     "output_type": "stream",
     "text": [
      "Success. \n"
     ]
    },
    {
     "name": "stderr",
     "output_type": "stream",
     "text": [
      "Uploading...:  67%|██████▋   | 2/3 [00:04<00:02,  2.13s/it, ./test_data/consitution_united_states.txt]"
     ]
    },
    {
     "name": "stdout",
     "output_type": "stream",
     "text": [
      "Success. \n"
     ]
    },
    {
     "name": "stderr",
     "output_type": "stream",
     "text": [
      "Uploading...: 100%|██████████| 3/3 [00:06<00:00,  2.28s/it, ./test_data/consitution_united_states.txt]"
     ]
    },
    {
     "name": "stdout",
     "output_type": "stream",
     "text": [
      "Success. \n"
     ]
    },
    {
     "name": "stderr",
     "output_type": "stream",
     "text": [
      "\n"
     ]
    },
    {
     "data": {
      "text/plain": [
       "[[{'response': {'status': {},\n",
       "    'quotaConsumed': {'numChars': '8065', 'numMetadataChars': '1939'}}},\n",
       "  {'response': {'status': {},\n",
       "    'quotaConsumed': {'numChars': '1464', 'numMetadataChars': '638'}}},\n",
       "  {'response': {'status': {},\n",
       "    'quotaConsumed': {'numChars': '43913', 'numMetadataChars': '7804'}}}]]"
      ]
     },
     "execution_count": 16,
     "metadata": {},
     "output_type": "execute_result"
    }
   ],
   "source": [
    "corpus_id = 11 # manually set corpus_id if needed. \n",
    "client.upload(corpus_id, './test_data')"
   ]
  },
  {
   "cell_type": "markdown",
   "metadata": {},
   "source": [
    "# Query to a corpus and beautifully display the results"
   ]
  },
  {
   "cell_type": "markdown",
   "metadata": {},
   "source": [
    "## Example query 1"
   ]
  },
  {
   "cell_type": "code",
   "execution_count": 22,
   "metadata": {},
   "outputs": [
    {
     "name": "stdout",
     "output_type": "stream",
     "text": [
      "{'responseSet': [{'response': [{'text': 'But when the right to vote at any election for the choice of electors for President and Vice-President of the United States, Representatives in Congress, the Executive and Judicial officers of a State, or the members of the Legislature thereof, is denied to any of the male inhabitants of such State, being twenty-one years of age, and citizens of the United States, or in any way abridged, except for participation in rebellion, or other crime, the basis of representation therein shall be reduced in the proportion which the number of such male citizens shall bear to the whole number of male citizens twenty-one years of age in such State.', 'score': 0.7183293, 'metadata': [{'name': 'lang', 'value': 'eng'}, {'name': 'section', 'value': '1'}, {'name': 'offset', 'value': '32287'}, {'name': 'len', 'value': '642'}], 'documentIndex': 0, 'corpusKey': {'customerId': 0, 'corpusId': 11, 'semantics': 'DEFAULT', 'dim': [], 'metadataFilter': '', 'lexicalInterpolationConfig': None}, 'resultOffset': 0, 'resultLength': 642}, {'text': '19th Amendment\\nThe right of citizens of the United States to vote shall not be denied or abridged by the United States or by any State on account of sex.', 'score': 0.714786, 'metadata': [{'name': 'lang', 'value': 'eng'}, {'name': 'section', 'value': '1'}, {'name': 'offset', 'value': '36271'}, {'name': 'len', 'value': '153'}], 'documentIndex': 0, 'corpusKey': {'customerId': 0, 'corpusId': 11, 'semantics': 'DEFAULT', 'dim': [], 'metadataFilter': '', 'lexicalInterpolationConfig': None}, 'resultOffset': 0, 'resultLength': 153}, {'text': 'The Electors shall meet in their respective States, and vote by Ballot for two Persons, of whom one at least shall not be an Inhabitant of the same State with themselves.', 'score': 0.7093863, 'metadata': [{'name': 'lang', 'value': 'eng'}, {'name': 'section', 'value': '1'}, {'name': 'offset', 'value': '14408'}, {'name': 'len', 'value': '170'}], 'documentIndex': 0, 'corpusKey': {'customerId': 0, 'corpusId': 11, 'semantics': 'DEFAULT', 'dim': [], 'metadataFilter': '', 'lexicalInterpolationConfig': None}, 'resultOffset': 0, 'resultLength': 170}, {'text': '26th Amendment\\nSection 1\\nThe right of citizens of the United States, who are eighteen years of age or older, to vote shall not be denied or abridged by the United States or by any State on account of age.', 'score': 0.6986308, 'metadata': [{'name': 'lang', 'value': 'eng'}, {'name': 'section', 'value': '1'}, {'name': 'offset', 'value': '43709'}, {'name': 'len', 'value': '204'}], 'documentIndex': 0, 'corpusKey': {'customerId': 0, 'corpusId': 11, 'semantics': 'DEFAULT', 'dim': [], 'metadataFilter': '', 'lexicalInterpolationConfig': None}, 'resultOffset': 0, 'resultLength': 204}, {'text': '24th Amendment\\nSection 1\\nThe right of citizens of the United States to vote in any primary or other election for President or Vice President, for electors for President or Vice President, or for Senator or Representative in Congress, shall not be denied or abridged by the United States or any State by reason of failure to pay poll tax or other tax.', 'score': 0.69072354, 'metadata': [{'name': 'lang', 'value': 'eng'}, {'name': 'section', 'value': '1'}, {'name': 'offset', 'value': '40847'}, {'name': 'len', 'value': '350'}], 'documentIndex': 0, 'corpusKey': {'customerId': 0, 'corpusId': 11, 'semantics': 'DEFAULT', 'dim': [], 'metadataFilter': '', 'lexicalInterpolationConfig': None}, 'resultOffset': 0, 'resultLength': 350}], 'status': [], 'document': [{'id': 'consitution_united_states.txt', 'metadata': [{'name': 'X-TIKA:Parsed-By', 'value': 'org.apache.tika.parser.csv.TextAndCSVParser'}, {'name': 'Content-Encoding', 'value': 'ISO-8859-1'}, {'name': 'Content-Type', 'value': 'text/plain; charset=ISO-8859-1'}]}], 'summary': [{'text': \"In the United States, women's right to vote was granted with the passage of the 19th Amendment, stating that the right to vote shall not be denied on account of sex [2]. This was a significant milestone in the fight for gender equality and expanded voting rights. Additionally, the 24th Amendment prohibits denial of the right to vote based on failure to pay poll tax or other tax for certain elections [5]. Similarly, the 26th Amendment ensures that citizens aged 18 and older have the right to vote, regardless of age [4]. These amendments collectively highlight the progress made in ensuring equal voting rights for all citizens, including women.\", 'lang': 'eng', 'prompt': '', 'chat': {'conversationId': '', 'turnId': '', 'rephrasedQuery': '', 'status': None}, 'factualConsistency': {'score': 0.120688975, 'status': {'code': 'OK', 'statusDetail': '', 'cause': None}}, 'done': True, 'status': [], 'futureId': 2}], 'futureId': 1}], 'status': [], 'metrics': None}\n",
      "Query successful. \n"
     ]
    },
    {
     "data": {
      "text/markdown": [
       "### Here is the answer\n",
       "In the United States, women's right to vote was granted with the passage of the 19th Amendment,\n",
       "stating that the right to vote shall not be denied on account of sex [2]. This was a significant\n",
       "milestone in the fight for gender equality and expanded voting rights. Additionally, the 24th\n",
       "Amendment prohibits denial of the right to vote based on failure to pay poll tax or other tax for\n",
       "certain elections [5]. Similarly, the 26th Amendment ensures that citizens aged 18 and older have\n",
       "the right to vote, regardless of age [4]. These amendments collectively highlight the progress made\n",
       "in ensuring equal voting rights for all citizens, including women.\n",
       "\n",
       "Factual Consistency Score: `0.120688975`\n",
       "\n",
       "### References:\n",
       "    \n",
       "1. From document **consitution_united_states.txt** (matchness=0.7183293):\n",
       "  _...But when the right to vote at any election for the choice of electors for President and Vice-President of the United States, Representatives in Congress, the Executive and Judicial officers of a State, or the members of the Legislature thereof, is denied to any of the male inhabitants of such State, being twenty-one years of age, and citizens of the United States, or in any way abridged, except for participation in rebellion, or other crime, the basis of representation therein shall be reduced in the proportion which the number of such male citizens shall bear to the whole number of male citizens twenty-one years of age in such State...._\n",
       "\n",
       "2. From document **consitution_united_states.txt** (matchness=0.714786):\n",
       "  _...19th Amendment\n",
       "The right of citizens of the United States to vote shall not be denied or abridged by the United States or by any State on account of sex...._\n",
       "\n",
       "3. From document **consitution_united_states.txt** (matchness=0.7093863):\n",
       "  _...The Electors shall meet in their respective States, and vote by Ballot for two Persons, of whom one at least shall not be an Inhabitant of the same State with themselves...._\n",
       "\n",
       "4. From document **consitution_united_states.txt** (matchness=0.6986308):\n",
       "  _...26th Amendment\n",
       "Section 1\n",
       "The right of citizens of the United States, who are eighteen years of age or older, to vote shall not be denied or abridged by the United States or by any State on account of age...._\n",
       "\n",
       "5. From document **consitution_united_states.txt** (matchness=0.69072354):\n",
       "  _...24th Amendment\n",
       "Section 1\n",
       "The right of citizens of the United States to vote in any primary or other election for President or Vice President, for electors for President or Vice President, or for Senator or Representative in Congress, shall not be denied or abridged by the United States or any State by reason of failure to pay poll tax or other tax...._\n"
      ]
     },
     "metadata": {},
     "output_type": "display_data"
    }
   ],
   "source": [
    "answer = client.query(corpus_id, \"Can women vote?\")\n",
    "_ = vectara.post_process_query_result(answer, jupyter_display=True)"
   ]
  },
  {
   "cell_type": "markdown",
   "metadata": {},
   "source": [
    "## Example query 2"
   ]
  },
  {
   "cell_type": "code",
   "execution_count": 23,
   "metadata": {},
   "outputs": [
    {
     "name": "stdout",
     "output_type": "stream",
     "text": [
      "{'responseSet': [{'response': [{'text': 'But when a long train of abuses and usurpations, pursuing invariably the same Object evinces a design to reduce them under absolute Despotism, it is their right, it is their duty, to throw off such Government, and to provide new Guards for their future security.', 'score': 0.72358835, 'metadata': [{'name': 'lang', 'value': 'eng'}, {'name': 'section', 'value': '1'}, {'name': 'offset', 'value': '1443'}, {'name': 'len', 'value': '262'}], 'documentIndex': 0, 'corpusKey': {'customerId': 0, 'corpusId': 11, 'semantics': 'DEFAULT', 'dim': [], 'metadataFilter': '', 'lexicalInterpolationConfig': None}, 'resultOffset': 0, 'resultLength': 262}, {'text': '--That to secure these rights, Governments are instituted among Men, deriving their just powers from the consent of the governed, --That whenever any Form of Government becomes destructive of these ends, it is the Right of the People to alter or to abolish it, and to institute new Government, laying its foundation on such principles and organizing its powers in such form, as to them shall seem most likely to effect their Safety and Happiness.', 'score': 0.69024, 'metadata': [{'name': 'lang', 'value': 'eng'}, {'name': 'section', 'value': '1'}, {'name': 'offset', 'value': '685'}, {'name': 'len', 'value': '446'}], 'documentIndex': 0, 'corpusKey': {'customerId': 0, 'corpusId': 11, 'semantics': 'DEFAULT', 'dim': [], 'metadataFilter': '', 'lexicalInterpolationConfig': None}, 'resultOffset': 0, 'resultLength': 446}, {'text': 'He has combined with others to subject us to a jurisdiction foreign to our constitution, and unacknowledged by our laws; giving his Assent to their Acts of pretended Legislation:\\n\\nFor Quartering large bodies of armed troops among us:\\n\\nFor protecting them, by a mock Trial, from punishment for any Murders which they should commit on the Inhabitants of these States:\\n\\nFor cutting off our Trade with all parts of the world:\\n\\nFor imposing Taxes on us without our Consent:\\n\\nFor depriving us in many cases, of the benefits of Trial by Jury:\\n\\nFor transporting us beyond Seas to be tried for pretended offences\\n\\nFor abolishing the free System of English Laws in a neighbouring Province, establishing therein an Arbitrary government, and enlarging its Boundaries so as to render it at once an example and fit instrument for introducing the same absolute rule into these Colonies:\\n\\nFor taking away our Charters, abolishing our most valuable Laws, and altering fundamentally the Forms of our Governments:\\n\\nFor suspending our own Legislatures, and declaring themselves invested with power to legislate for us in all cases whatsoever.', 'score': 0.67727005, 'metadata': [{'name': 'lang', 'value': 'eng'}, {'name': 'section', 'value': '1'}, {'name': 'offset', 'value': '4123'}, {'name': 'len', 'value': '1122'}], 'documentIndex': 0, 'corpusKey': {'customerId': 0, 'corpusId': 11, 'semantics': 'DEFAULT', 'dim': [], 'metadataFilter': '', 'lexicalInterpolationConfig': None}, 'resultOffset': 0, 'resultLength': 1122}, {'text': 'No State shall make or enforce any law which shall abridge the privileges or immunities of citizens of the United States; nor shall any State deprive any person of life, liberty, or property, without due process of law; nor deny to any person within its jurisdiction the equal protection of the laws.', 'score': 0.6727537, 'metadata': [{'name': 'lang', 'value': 'eng'}, {'name': 'section', 'value': '1'}, {'name': 'offset', 'value': '31793'}, {'name': 'len', 'value': '300'}], 'documentIndex': 1, 'corpusKey': {'customerId': 0, 'corpusId': 11, 'semantics': 'DEFAULT', 'dim': [], 'metadataFilter': '', 'lexicalInterpolationConfig': None}, 'resultOffset': 0, 'resultLength': 300}, {'text': 'Prudence, indeed, will dictate that Governments long established should not be changed for light and transient causes; and accordingly all experience hath shewn, that mankind are more disposed to suffer, while evils are sufferable, than to right themselves by abolishing the forms to which they are accustomed.', 'score': 0.6715199, 'metadata': [{'name': 'lang', 'value': 'eng'}, {'name': 'section', 'value': '1'}, {'name': 'offset', 'value': '1132'}, {'name': 'len', 'value': '310'}], 'documentIndex': 0, 'corpusKey': {'customerId': 0, 'corpusId': 11, 'semantics': 'DEFAULT', 'dim': [], 'metadataFilter': '', 'lexicalInterpolationConfig': None}, 'resultOffset': 0, 'resultLength': 310}], 'status': [], 'document': [{'id': 'declaration_of_independence.txt', 'metadata': [{'name': 'X-TIKA:Parsed-By', 'value': 'org.apache.tika.parser.csv.TextAndCSVParser'}, {'name': 'Content-Encoding', 'value': 'ISO-8859-1'}, {'name': 'Content-Type', 'value': 'text/plain; charset=ISO-8859-1'}]}, {'id': 'consitution_united_states.txt', 'metadata': [{'name': 'X-TIKA:Parsed-By', 'value': 'org.apache.tika.parser.csv.TextAndCSVParser'}, {'name': 'Content-Encoding', 'value': 'ISO-8859-1'}, {'name': 'Content-Type', 'value': 'text/plain; charset=ISO-8859-1'}]}], 'summary': [{'text': \"When facing an unjust government, individuals have the right and duty to resist and potentially overthrow it [1]. Governments derive their power from the consent of the governed; therefore, if a government becomes destructive of the people's rights, it is within the people's right to alter or abolish it [2]. The people should aim to establish a new government that ensures their safety and happiness [2]. It is important to remember that changing a long-established government should not be done lightly, as people tend to endure suffering rather than instigate change [5]. If a government exhibits abuse of power, violates rights, or imposes unjust laws, citizens have the responsibility to take action to secure their freedom and well-being [3].\", 'lang': 'eng', 'prompt': '', 'chat': {'conversationId': '', 'turnId': '', 'rephrasedQuery': '', 'status': None}, 'factualConsistency': {'score': 0.7441291, 'status': {'code': 'OK', 'statusDetail': '', 'cause': None}}, 'done': True, 'status': [], 'futureId': 2}], 'futureId': 1}], 'status': [], 'metrics': None}\n",
      "Query successful. \n"
     ]
    },
    {
     "data": {
      "text/markdown": [
       "### Here is the answer\n",
       "When facing an unjust government, individuals have the right and duty to resist and potentially\n",
       "overthrow it [1]. Governments derive their power from the consent of the governed; therefore, if a\n",
       "government becomes destructive of the people's rights, it is within the people's right to alter or\n",
       "abolish it [2]. The people should aim to establish a new government that ensures their safety and\n",
       "happiness [2]. It is important to remember that changing a long-established government should not be\n",
       "done lightly, as people tend to endure suffering rather than instigate change [5]. If a government\n",
       "exhibits abuse of power, violates rights, or imposes unjust laws, citizens have the responsibility\n",
       "to take action to secure their freedom and well-being [3].\n",
       "\n",
       "Factual Consistency Score: `0.7441291`\n",
       "\n",
       "### References:\n",
       "    \n",
       "1. From document **declaration_of_independence.txt** (matchness=0.72358835):\n",
       "  _...But when a long train of abuses and usurpations, pursuing invariably the same Object evinces a design to reduce them under absolute Despotism, it is their right, it is their duty, to throw off such Government, and to provide new Guards for their future security...._\n",
       "\n",
       "2. From document **declaration_of_independence.txt** (matchness=0.69024):\n",
       "  _...--That to secure these rights, Governments are instituted among Men, deriving their just powers from the consent of the governed, --That whenever any Form of Government becomes destructive of these ends, it is the Right of the People to alter or to abolish it, and to institute new Government, laying its foundation on such principles and organizing its powers in such form, as to them shall seem most likely to effect their Safety and Happiness...._\n",
       "\n",
       "3. From document **declaration_of_independence.txt** (matchness=0.67727005):\n",
       "  _...He has combined with others to subject us to a jurisdiction foreign to our constitution, and unacknowledged by our laws; giving his Assent to their Acts of pretended Legislation:\n",
       "For Quartering large bodies of armed troops among us:\n",
       "For protecting them, by a mock Trial, from punishment for any Murders which they should commit on the Inhabitants of these States:\n",
       "For cutting off our Trade with all parts of the world:\n",
       "For imposing Taxes on us without our Consent:\n",
       "For depriving us in many cases, of the benefits of Trial by Jury:\n",
       "For transporting us beyond Seas to be tried for pretended offences\n",
       "For abolishing the free System of English Laws in a neighbouring Province, establishing therein an Arbitrary government, and enlarging its Boundaries so as to render it at once an example and fit instrument for introducing the same absolute rule into these Colonies:\n",
       "For taking away our Charters, abolishing our most valuable Laws, and altering fundamentally the Forms of our Governments:\n",
       "For suspending our own Legislatures, and declaring themselves invested with power to legislate for us in all cases whatsoever...._\n",
       "\n",
       "4. From document **consitution_united_states.txt** (matchness=0.6727537):\n",
       "  _...No State shall make or enforce any law which shall abridge the privileges or immunities of citizens of the United States; nor shall any State deprive any person of life, liberty, or property, without due process of law; nor deny to any person within its jurisdiction the equal protection of the laws...._\n",
       "\n",
       "5. From document **declaration_of_independence.txt** (matchness=0.6715199):\n",
       "  _...Prudence, indeed, will dictate that Governments long established should not be changed for light and transient causes; and accordingly all experience hath shewn, that mankind are more disposed to suffer, while evils are sufferable, than to right themselves by abolishing the forms to which they are accustomed...._\n"
      ]
     },
     "metadata": {},
     "output_type": "display_data"
    }
   ],
   "source": [
    "answer = client.query(corpus_id, \"What should you do when a government is unjust?\")\n",
    "_ = vectara.post_process_query_result(answer, jupyter_display=True, format='markdown')"
   ]
  },
  {
   "cell_type": "markdown",
   "metadata": {},
   "source": [
    "## Example query 3"
   ]
  },
  {
   "cell_type": "code",
   "execution_count": 26,
   "metadata": {},
   "outputs": [
    {
     "name": "stdout",
     "output_type": "stream",
     "text": [
      "{'responseSet': [{'response': [{'text': 'Every Order, Resolution, or Vote to which the Concurrence of the Senate and House of Representatives may be necessary (except on a question of Adjournment) shall be presented to the President of the United States; and before the Same shall take Effect, shall be approved by him, or being disapproved by him, shall be repassed by two thirds of the Senate and House of Representatives, according to the Rules and Limitations prescribed in the Case of a Bill.', 'score': 0.63140404, 'metadata': [{'name': 'lang', 'value': 'eng'}, {'name': 'section', 'value': '1'}, {'name': 'offset', 'value': '8137'}, {'name': 'len', 'value': '456'}], 'documentIndex': 0, 'corpusKey': {'customerId': 0, 'corpusId': 11, 'semantics': 'DEFAULT', 'dim': [], 'metadataFilter': '', 'lexicalInterpolationConfig': None}, 'resultOffset': 0, 'resultLength': 456}, {'text': 'The Senators and Representatives before mentioned, and the Members of the several State Legislatures, and all executive and judicial Officers, both of the United States and of the several States, shall be bound by Oath or Affirmation, to support this Constitution; but no religious Test shall ever be required as a Qualification to any Office or public Trust under the United States.', 'score': 0.62601197, 'metadata': [{'name': 'lang', 'value': 'eng'}, {'name': 'section', 'value': '1'}, {'name': 'offset', 'value': '25283'}, {'name': 'len', 'value': '383'}], 'documentIndex': 0, 'corpusKey': {'customerId': 0, 'corpusId': 11, 'semantics': 'DEFAULT', 'dim': [], 'metadataFilter': '', 'lexicalInterpolationConfig': None}, 'resultOffset': 0, 'resultLength': 383}, {'text': 'No Senator or Representative shall, during the Time for which he was elected, be appointed to any civil Office under the Authority of the United States, which shall have been created, or the Emoluments whereof shall have been encreased during such time; and no Person holding any Office under the United States, shall be a Member of either House during his Continuance in Office.', 'score': 0.62449586, 'metadata': [{'name': 'lang', 'value': 'eng'}, {'name': 'section', 'value': '1'}, {'name': 'offset', 'value': '6427'}, {'name': 'len', 'value': '379'}], 'documentIndex': 0, 'corpusKey': {'customerId': 0, 'corpusId': 11, 'semantics': 'DEFAULT', 'dim': [], 'metadataFilter': '', 'lexicalInterpolationConfig': None}, 'resultOffset': 0, 'resultLength': 379}, {'text': 'Section 3\\nNo person shall be a Senator or Representative in Congress, or elector of President and Vice-President, or hold any office, civil or military, under the United States, or under any State, who, having previously taken an oath, as a member of Congress, or as an officer of the United States, or as a member of any State legislature, or as an executive or judicial officer of any State, to support the Constitution of the United States, shall have engaged in insurrection or rebellion against the same, or given aid or comfort to the enemies thereof.', 'score': 0.6220969, 'metadata': [{'name': 'lang', 'value': 'eng'}, {'name': 'section', 'value': '1'}, {'name': 'offset', 'value': '32931'}, {'name': 'len', 'value': '557'}], 'documentIndex': 0, 'corpusKey': {'customerId': 0, 'corpusId': 11, 'semantics': 'DEFAULT', 'dim': [], 'metadataFilter': '', 'lexicalInterpolationConfig': None}, 'resultOffset': 0, 'resultLength': 557}, {'text': 'We must, therefore, acquiesce in the necessity, which denounces our Separation, and hold them, as we hold the rest of mankind, Enemies in War, in Peace Friends.', 'score': 0.62160254, 'metadata': [{'name': 'lang', 'value': 'eng'}, {'name': 'section', 'value': '1'}, {'name': 'offset', 'value': '7018'}, {'name': 'len', 'value': '160'}], 'documentIndex': 1, 'corpusKey': {'customerId': 0, 'corpusId': 11, 'semantics': 'DEFAULT', 'dim': [], 'metadataFilter': '', 'lexicalInterpolationConfig': None}, 'resultOffset': 0, 'resultLength': 160}], 'status': [], 'document': [{'id': 'consitution_united_states.txt', 'metadata': [{'name': 'X-TIKA:Parsed-By', 'value': 'org.apache.tika.parser.csv.TextAndCSVParser'}, {'name': 'Content-Encoding', 'value': 'ISO-8859-1'}, {'name': 'Content-Type', 'value': 'text/plain; charset=ISO-8859-1'}]}, {'id': 'declaration_of_independence.txt', 'metadata': [{'name': 'X-TIKA:Parsed-By', 'value': 'org.apache.tika.parser.csv.TextAndCSVParser'}, {'name': 'Content-Encoding', 'value': 'ISO-8859-1'}, {'name': 'Content-Type', 'value': 'text/plain; charset=ISO-8859-1'}]}], 'summary': [{'text': 'The Constitution prohibits certain individuals from holding office if they have engaged in insurrection or rebellion against the United States [4]. All executive and judicial Officers must take an oath to support the Constitution, with no religious test required for office [2]. Any Order, Resolution, or Vote requiring Senate and House concurrence must be presented to the President for approval before taking effect [1]. Additionally, individuals are restricted from holding civil office if they have taken an oath as a member of Congress and engaged in insurrection [3]. The necessity of separation from enemies is recognized, emphasizing a distinction between war and peace [5]. Therefore, based on these constitutional provisions and principles, it is essential to adhere to the rules and regulations regarding bringing friends to the office.', 'lang': 'eng', 'prompt': '', 'chat': {'conversationId': '', 'turnId': '', 'rephrasedQuery': '', 'status': None}, 'factualConsistency': {'score': 0.41796625, 'status': {'code': 'OK', 'statusDetail': '', 'cause': None}}, 'done': True, 'status': [], 'futureId': 2}], 'futureId': 1}], 'status': [], 'metrics': None}\n",
      "Query successful. \n"
     ]
    },
    {
     "data": {
      "text/markdown": [
       "### Here is the answer\n",
       "The Constitution prohibits certain individuals from holding office if they have engaged in\n",
       "insurrection or rebellion against the United States [4]. All executive and judicial Officers must\n",
       "take an oath to support the Constitution, with no religious test required for office [2]. Any Order,\n",
       "Resolution, or Vote requiring Senate and House concurrence must be presented to the President for\n",
       "approval before taking effect [1]. Additionally, individuals are restricted from holding civil\n",
       "office if they have taken an oath as a member of Congress and engaged in insurrection [3]. The\n",
       "necessity of separation from enemies is recognized, emphasizing a distinction between war and peace\n",
       "[5]. Therefore, based on these constitutional provisions and principles, it is essential to adhere\n",
       "to the rules and regulations regarding bringing friends to the office.\n",
       "\n",
       "Factual Consistency Score: `0.41796625`\n",
       "\n",
       "### References:\n",
       "    \n",
       "1. From document **consitution_united_states.txt** (matchness=0.63140404):\n",
       "  _...Every Order, Resolution, or Vote to which the Concurrence of the Senate and House of Representatives may be necessary (except on a question of Adjournment) shall be presented to the President of the United States; and before the Same shall take Effect, shall be approved by him, or being disapproved by him, shall be repassed by two thirds of the Senate and House of Representatives, according to the Rules and Limitations prescribed in the Case of a Bill...._\n",
       "\n",
       "2. From document **consitution_united_states.txt** (matchness=0.62601197):\n",
       "  _...The Senators and Representatives before mentioned, and the Members of the several State Legislatures, and all executive and judicial Officers, both of the United States and of the several States, shall be bound by Oath or Affirmation, to support this Constitution; but no religious Test shall ever be required as a Qualification to any Office or public Trust under the United States...._\n",
       "\n",
       "3. From document **consitution_united_states.txt** (matchness=0.62449586):\n",
       "  _...No Senator or Representative shall, during the Time for which he was elected, be appointed to any civil Office under the Authority of the United States, which shall have been created, or the Emoluments whereof shall have been encreased during such time; and no Person holding any Office under the United States, shall be a Member of either House during his Continuance in Office...._\n",
       "\n",
       "4. From document **consitution_united_states.txt** (matchness=0.6220969):\n",
       "  _...Section 3\n",
       "No person shall be a Senator or Representative in Congress, or elector of President and Vice-President, or hold any office, civil or military, under the United States, or under any State, who, having previously taken an oath, as a member of Congress, or as an officer of the United States, or as a member of any State legislature, or as an executive or judicial officer of any State, to support the Constitution of the United States, shall have engaged in insurrection or rebellion against the same, or given aid or comfort to the enemies thereof...._\n",
       "\n",
       "5. From document **declaration_of_independence.txt** (matchness=0.62160254):\n",
       "  _...We must, therefore, acquiesce in the necessity, which denounces our Separation, and hold them, as we hold the rest of mankind, Enemies in War, in Peace Friends...._\n"
      ]
     },
     "metadata": {},
     "output_type": "display_data"
    }
   ],
   "source": [
    "answer = client.query(corpus_id, \"Can I bring friends to the office?\")\n",
    "_ = vectara.post_process_query_result(answer, jupyter_display=True, format='markdown')"
   ]
  },
  {
   "cell_type": "code",
   "execution_count": null,
   "metadata": {},
   "outputs": [],
   "source": []
  }
 ],
 "metadata": {
  "kernelspec": {
   "display_name": "Python 3",
   "language": "python",
   "name": "python3"
  },
  "language_info": {
   "codemirror_mode": {
    "name": "ipython",
    "version": 3
   },
   "file_extension": ".py",
   "mimetype": "text/x-python",
   "name": "python",
   "nbconvert_exporter": "python",
   "pygments_lexer": "ipython3",
   "version": "3.10.12"
  }
 },
 "nbformat": 4,
 "nbformat_minor": 2
}
