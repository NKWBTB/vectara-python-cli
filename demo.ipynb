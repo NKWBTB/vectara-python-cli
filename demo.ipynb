{
 "cells": [
  {
   "cell_type": "markdown",
   "metadata": {},
   "source": [
    "# Demo of the unofficial Python SDK for [Vectara](https://vectara.com)'s RAG platform\n",
    "\n",
    "For questions, ask forrest@vectara.com "
   ]
  },
  {
   "cell_type": "code",
   "execution_count": 40,
   "metadata": {},
   "outputs": [
    {
     "data": {
      "text/plain": [
       "<module 'vectara' from '/home/forrest/repos/vectara-python-cli/src/vectara/__init__.py'>"
      ]
     },
     "execution_count": 40,
     "metadata": {},
     "output_type": "execute_result"
    }
   ],
   "source": [
    "import vectara\n",
    "\n",
    "# For debugging \n",
    "import importlib\n",
    "importlib.reload(vectara)"
   ]
  },
  {
   "cell_type": "code",
   "execution_count": 44,
   "metadata": {},
   "outputs": [
    {
     "name": "stdout",
     "output_type": "stream",
     "text": [
      "2023-11-22 01:25:58 URL:https://docs.vectara.com/assets/files/vectara_employee_handbook-4524365135dc70a59977373c37601ad1.pdf [53575/53575] -> \"testdoc/vectara.pdf\" [1]\n",
      "2023-11-22 01:25:59 URL:https://raw.githubusercontent.com/TexteaInc/funix-doc/main/Reference.md [35949/35949] -> \"testdoc/funix.md\" [1]\n",
      "2023-11-22 01:25:59 URL:https://raw.githubusercontent.com/codepod-io/codepod.io/main/docs/3-manual/README.md [7451/7451] -> \"testdoc/codepod.md\" [1]\n"
     ]
    }
   ],
   "source": [
    "# Get some test data \n",
    "!rm testdoc -rf \n",
    "!mkdir testdoc \n",
    "# !wget https://www.cs.jhu.edu/~jason/papers/mei+al.icml20.pdf -O testdoc/neural_datalog_through_time.pdf -nv \n",
    "!wget https://docs.vectara.com/assets/files/vectara_employee_handbook-4524365135dc70a59977373c37601ad1.pdf -O testdoc/vectara.pdf -nv \n",
    "!wget https://raw.githubusercontent.com/TexteaInc/funix-doc/main/Reference.md -O testdoc/funix.md -nv \n",
    "!wget https://raw.githubusercontent.com/codepod-io/codepod.io/main/docs/3-manual/README.md -O testdoc/codepod.md -nv\n",
    "# !wget https://raw.githubusercontent.com/tangxyw/RecSysPapers/main/Calibration/Posterior%20Probability%20Matters%20-%20Doubly-Adaptive%20Calibration%20for%20Neural%20Predictions%20in%20Online%20Advertising.pdf -O testdoc/Calibration.pdf\n"
   ]
  },
  {
   "cell_type": "markdown",
   "metadata": {},
   "source": [
    "# Create a client object \n",
    "\n",
    "By default, the constructor will look for the authentication credentials in the environment variables. For details, see [README.md](./README.md#credentials)"
   ]
  },
  {
   "cell_type": "code",
   "execution_count": 22,
   "metadata": {},
   "outputs": [
    {
     "name": "stdout",
     "output_type": "stream",
     "text": [
      "Bearer/JWT token generated. It will expire in 30 minutes. To-regenerate, please call acquire_jwt_token(). \n"
     ]
    }
   ],
   "source": [
    "client = vectara() # get default credentials from environment variables \n",
    "# OR\n",
    "client = vectara(api_key='abc', customer_id='123') # pass in credentials for using Personal API key \n",
    "# OR\n",
    "client = vectara(client_id='abc', client_secret='xyz', customer_id='123') # pass in credentials for using OAuth2"
   ]
  },
  {
   "cell_type": "markdown",
   "metadata": {},
   "source": [
    "# Create a corpus"
   ]
  },
  {
   "cell_type": "code",
   "execution_count": 4,
   "metadata": {},
   "outputs": [],
   "source": [
    "corpus_id = client.create_corpus(\"test_corpus\") "
   ]
  },
  {
   "cell_type": "markdown",
   "metadata": {},
   "source": [
    "# Reset Corpus (when needed)"
   ]
  },
  {
   "cell_type": "code",
   "execution_count": 45,
   "metadata": {},
   "outputs": [
    {
     "name": "stdout",
     "output_type": "stream",
     "text": [
      "Resetting corpus 9 successful. \n"
     ]
    }
   ],
   "source": [
    "corpus_id = 9 # manual set here \n",
    "client.reset_corpus(corpus_id)"
   ]
  },
  {
   "cell_type": "markdown",
   "metadata": {},
   "source": [
    "# Add files to a corpus\n",
    "\n",
    "You can use the `upload()` method to upload a file, a list of files, or a folder to a corpus. The `upload()` method automatically detects the type of file source to switch between the three methods below.\n",
    "* `upload_file()`: upload a single file\n",
    "* `upload_files()`: upload a list of files\n",
    "* `upload_folder()`: upload all files in a folder\n",
    "\n",
    "Of course, if you are very sure about what you are doing, you can also use the three methods above directly."
   ]
  },
  {
   "cell_type": "code",
   "execution_count": 46,
   "metadata": {},
   "outputs": [
    {
     "name": "stdout",
     "output_type": "stream",
     "text": [
      "Uploading files from folder: ./testdoc\n"
     ]
    },
    {
     "name": "stderr",
     "output_type": "stream",
     "text": [
      "Uploading...: 100%|██████████| 3/3 [00:07<00:00,  2.41s/it, ./testdoc/vectara.pdf]\n"
     ]
    }
   ],
   "source": [
    "corpus_id = 9 # manually set corpus_id if needed. \n",
    "client.upload(corpus_id, './testdoc')"
   ]
  },
  {
   "cell_type": "markdown",
   "metadata": {},
   "source": [
    "# Query to a corpus and beautifully display the results"
   ]
  },
  {
   "cell_type": "markdown",
   "metadata": {},
   "source": [
    "## Example query 1"
   ]
  },
  {
   "cell_type": "code",
   "execution_count": 59,
   "metadata": {},
   "outputs": [
    {
     "name": "stdout",
     "output_type": "stream",
     "text": [
      "Query successful. \n"
     ]
    },
    {
     "data": {
      "text/markdown": [
       "### Here is the answer\n",
       "To rearrange objects, you can utilize the \"direction\" attribute in a Funix decorator [1]. Manually resizing and positioning objects can be a tedious and inefficient process [2]. Another approach is to use a collision-free algorithm for auto-layout, where scopes will be resized to fit the objects inside [4]. An example of arranging objects in a column-reverse direction can be seen in the ChatGPT multiturn app [3]. Additionally, organizing your canvas with scopes can help in rearranging objects effectively [5]. Remember to experiment with these methods to find the best arrangement for your specific needs.\n",
       "\n",
       "### References:\n",
       "    \n",
       "1. From document **funix.md** (matchness=0.673933):\n",
       "  _...You can change their order and orientation using the \"direction\" attribute in a Funix decorator...._\n",
       "\n",
       "2. From document **codepod.md** (matchness=0.65305215):\n",
       "  _...It is painful and inefficient to resize and position the pods and scopes manually...._\n",
       "\n",
       "3. From document **funix.md** (matchness=0.6520513):\n",
       "  _...The example below shall be self-explaining:\n",
       "A more advanced example is our ChatGPT multiturn app where \"direction = \"column-reverse\"\" so the message you type stays at the bottom...._\n",
       "\n",
       "4. From document **codepod.md** (matchness=0.6495899):\n",
       "  _...default}alt=\"Example banner\"width=\"600\"/>\n",
       "After auto-layout, the pods and scopes are organized by a collision-free algorithm, and the scopes will be resized to fit the pods inside...._\n",
       "\n",
       "5. From document **codepod.md** (matchness=0.6460015):\n",
       "  _...Organize your Canvas with scopes..._\n"
      ]
     },
     "metadata": {},
     "output_type": "display_data"
    }
   ],
   "source": [
    "answer = client.query(corpus_id, \"How can I rearrange objects?\")\n",
    "_ = vectara.post_process_query_result(answer, jupyter_display=True)"
   ]
  },
  {
   "cell_type": "markdown",
   "metadata": {},
   "source": [
    "## Example query 2"
   ]
  },
  {
   "cell_type": "code",
   "execution_count": 48,
   "metadata": {},
   "outputs": [
    {
     "name": "stdout",
     "output_type": "stream",
     "text": [
      "Query successful. \n"
     ]
    },
    {
     "data": {
      "text/markdown": [
       "```json\n",
       "{\n",
       "  \"summary\": \"You can bring friends to the office for special occasions like \\\"Furry Friend Fridays\\\" [1]. However, there might be certain policies and peculiarities to be aware of when bringing in pets [2]. Some offices even organize team-building adventures involving exotic pet interactions to enhance teamwork and inject fun into the workplace [3]. These furry friends can also add a colorful flair to team meetings [4]. Overall, while the sentiment is appreciated, it is important to understand the specific guidelines and policies of your workplace regarding bringing friends to the office [5].\",\n",
       "  \"matches\": [\n",
       "    {\n",
       "      \"src_doc_id\": 0,\n",
       "      \"src_doc_name\": \"vectara.pdf\",\n",
       "      \"text\": \"monthly \\\"Furry Friend Fridays\\\" where you can introduce your pets via video conference.\"\n",
       "    },\n",
       "    {\n",
       "      \"src_doc_id\": 0,\n",
       "      \"src_doc_name\": \"vectara.pdf\",\n",
       "      \"text\": \"However, before you bring in your pet parrot or rescue raven, there are some\\npeculiarities to this policy that you must understand.\"\n",
       "    },\n",
       "    {\n",
       "      \"src_doc_id\": 0,\n",
       "      \"src_doc_name\": \"vectara.pdf\",\n",
       "      \"text\": \"The Team-building Adventures: From velociraptor training simulations to bear dance-offs, our\\nexotic pet interactions are designed to build teamwork, enhance communication, and inject fun\\ninto the workplace.\"\n",
       "    },\n",
       "    {\n",
       "      \"src_doc_id\": 0,\n",
       "      \"src_doc_name\": \"vectara.pdf\",\n",
       "      \"text\": \"Plus, they add a colorful \\ufb02air to team meetings.\"\n",
       "    },\n",
       "    {\n",
       "      \"src_doc_id\": 0,\n",
       "      \"src_doc_name\": \"vectara.pdf\",\n",
       "      \"text\": \"We appreciate the sentiment, and we're sure your furry\\nfriends are delightful.\"\n",
       "    }\n",
       "  ]\n",
       "}\n",
       "```"
      ]
     },
     "metadata": {},
     "output_type": "display_data"
    }
   ],
   "source": [
    "answer = client.query(corpus_id, \"Can I bring friends to the office?\")\n",
    "_ = vectara.post_process_query_result(answer, jupyter_display=True, format='json')"
   ]
  },
  {
   "cell_type": "code",
   "execution_count": null,
   "metadata": {},
   "outputs": [],
   "source": []
  }
 ],
 "metadata": {
  "kernelspec": {
   "display_name": "Python 3",
   "language": "python",
   "name": "python3"
  },
  "language_info": {
   "codemirror_mode": {
    "name": "ipython",
    "version": 3
   },
   "file_extension": ".py",
   "mimetype": "text/x-python",
   "name": "python",
   "nbconvert_exporter": "python",
   "pygments_lexer": "ipython3",
   "version": "3.10.12"
  }
 },
 "nbformat": 4,
 "nbformat_minor": 2
}
